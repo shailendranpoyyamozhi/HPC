{
  "nbformat": 4,
  "nbformat_minor": 0,
  "metadata": {
    "colab": {
      "provenance": [],
      "collapsed_sections": []
    },
    "kernelspec": {
      "name": "python3",
      "display_name": "Python 3"
    },
    "language_info": {
      "name": "python"
    }
  },
  "cells": [
    {
      "cell_type": "code",
      "execution_count": null,
      "metadata": {
        "colab": {
          "base_uri": "https://localhost:8080/"
        },
        "id": "WNcDADWZXEYL",
        "outputId": "05a49d31-29e2-4edb-e85b-6f9f0fa5bb98"
      },
      "outputs": [
        {
          "output_type": "stream",
          "name": "stdout",
          "text": [
            "[2002, 2009, 2016, 2023, 2037, 2044, 2051, 2058, 2072, 2079, 2086, 2093, 2107, 2114, 2121, 2128, 2142, 2149, 2156, 2163, 2177, 2184, 2191, 2198, 2212, 2219, 2226, 2233, 2247, 2254, 2261, 2268, 2282, 2289, 2296, 2303, 2317, 2324, 2331, 2338, 2352, 2359, 2366, 2373, 2387, 2394, 2401, 2408, 2422, 2429, 2436, 2443, 2457, 2464, 2471, 2478, 2492, 2499, 2506, 2513, 2527, 2534, 2541, 2548, 2562, 2569, 2576, 2583, 2597, 2604, 2611, 2618, 2632, 2639, 2646, 2653, 2667, 2674, 2681, 2688, 2702, 2709, 2716, 2723, 2737, 2744, 2751, 2758, 2772, 2779, 2786, 2793, 2807, 2814, 2821, 2828, 2842, 2849, 2856, 2863, 2877, 2884, 2891, 2898, 2912, 2919, 2926, 2933, 2947, 2954, 2961, 2968, 2982, 2989, 2996]\n"
          ]
        }
      ],
      "source": [
        "# Question 1\n",
        "a=[]\n",
        "for i in range(2000,3000):\n",
        "    if i%7==0 and i%5!=0:\n",
        "        a.append(i)\n",
        "print(a)\n"
      ]
    },
    {
      "cell_type": "code",
      "source": [
        "# Question 2\n",
        "\n",
        "fact=1\n",
        "a=int(input(\"Input the number: \"))\n",
        "print(\"Then, factorial of the given number is:\")\n",
        "for i in range(1,a+1):\n",
        "    fact = fact * i\n",
        "print(fact)\n"
      ],
      "metadata": {
        "colab": {
          "base_uri": "https://localhost:8080/"
        },
        "id": "TkPSNEMDYTQn",
        "outputId": "d6c9274a-5773-42f9-f8a1-a5db74fb7456"
      },
      "execution_count": null,
      "outputs": [
        {
          "output_type": "stream",
          "name": "stdout",
          "text": [
            "Input the number: 8\n",
            "Then, factorial of the given number is:\n",
            "40320\n"
          ]
        }
      ]
    },
    {
      "cell_type": "code",
      "source": [
        "#Question 3\n",
        "dict={}\n",
        "a=int(input(\"Input the number: \"))\n",
        "for i in range(1,a+1):\n",
        "    dict[i] = i*i\n",
        "\n",
        "print('The output is: ')\n",
        "print(dict)\n"
      ],
      "metadata": {
        "colab": {
          "base_uri": "https://localhost:8080/"
        },
        "id": "ZIWhd613fih2",
        "outputId": "068fcdbe-7913-4e29-d1dc-c13b308363f9"
      },
      "execution_count": null,
      "outputs": [
        {
          "output_type": "stream",
          "name": "stdout",
          "text": [
            "Input the number: 9\n",
            " The output is: \n",
            "{1: 1, 2: 4, 3: 9, 4: 16, 5: 25, 6: 36, 7: 49, 8: 64, 9: 81}\n"
          ]
        }
      ]
    },
    {
      "cell_type": "code",
      "source": [
        "#Question 4\n",
        "\n",
        "x = str(input(\"Input Value: \"))\n",
        "a = tuple(x for x in x.split(\",\"))\n",
        "\n",
        "print('The output is: ')\n",
        "print(a)  "
      ],
      "metadata": {
        "colab": {
          "base_uri": "https://localhost:8080/"
        },
        "id": "6w0NQBq9gad2",
        "outputId": "07d5e7d0-649b-4c79-d656-25b5c1676cab"
      },
      "execution_count": null,
      "outputs": [
        {
          "output_type": "stream",
          "name": "stdout",
          "text": [
            "Input Value: 100,100,100\n",
            "The output is: \n",
            "('100', '100', '100')\n"
          ]
        }
      ]
    },
    {
      "cell_type": "code",
      "source": [
        "# Question 5\n",
        "\n",
        "class Letter:\n",
        "    def __init__(self):\n",
        "        self.l = \"\"\n",
        "\n",
        "    \n",
        "    def getstring(self):    \n",
        "        self.l = input()\n",
        "        \n",
        "    def uppercase(self):    \n",
        "        a = self.l.upper()\n",
        "        print(a)\n",
        "L = Letter()\n",
        "print('Input string: ')\n",
        "L.getstring()\n",
        "print('Output required: ')\n",
        "L.uppercase()"
      ],
      "metadata": {
        "colab": {
          "base_uri": "https://localhost:8080/"
        },
        "id": "MO9IB6R8ovn4",
        "outputId": "95120207-c8a2-4998-f6e0-508bb09497d7"
      },
      "execution_count": null,
      "outputs": [
        {
          "output_type": "stream",
          "name": "stdout",
          "text": [
            "Input string: \n",
            "kjkj\n",
            "Output required: \n",
            "KJKJ\n"
          ]
        }
      ]
    },
    {
      "cell_type": "code",
      "source": [
        "#Question 6\n",
        "import math\n",
        "x = str(input(\"Input Value: \"))\n",
        "a = map(int,list(x for x in x.split(\",\")))\n",
        "\n",
        "c=[]\n",
        "for i in a:\n",
        "    c.append(int(math.sqrt((2*50*i)/30)))\n",
        "print('The output is: ')\n",
        "print(','.join(str(x) for x in c))"
      ],
      "metadata": {
        "colab": {
          "base_uri": "https://localhost:8080/"
        },
        "id": "nbdTxWwsMYNA",
        "outputId": "3b2d47a9-ff31-47fb-aba0-e4f40d916711"
      },
      "execution_count": null,
      "outputs": [
        {
          "output_type": "stream",
          "name": "stdout",
          "text": [
            "Input Value: 100,100,100\n",
            "The output is: \n",
            "18,18,18\n"
          ]
        }
      ]
    },
    {
      "cell_type": "code",
      "source": [
        "# Question 7\n",
        "\n",
        "x = str(input(\"Input Value: \"))\n",
        "a = list(map(int,list(x for x in x.split(\",\"))))\n",
        "if len(a) == 2:\n",
        "    s = [[0 for i in range(a[1])] for j in range(a[0])]\n",
        "    for i in range(0,a[0]):\n",
        "        for j in range(0,a[1]):\n",
        "            s[i][j]=j*i\n",
        "    print('Output is:')\n",
        "    print(s)\n",
        "else:\n",
        "    print('Wrong input')\n"
      ],
      "metadata": {
        "colab": {
          "base_uri": "https://localhost:8080/"
        },
        "id": "QEkDNPJ4Ki07",
        "outputId": "0f2a756b-5496-4db3-e542-2c9e28a1ba50"
      },
      "execution_count": null,
      "outputs": [
        {
          "output_type": "stream",
          "name": "stdout",
          "text": [
            "Input Value: 3,5\n",
            "Output is:\n",
            "[[0, 0, 0, 0, 0], [0, 1, 2, 3, 4], [0, 2, 4, 6, 8]]\n"
          ]
        }
      ]
    },
    {
      "cell_type": "code",
      "source": [
        "#Question 8\n",
        "\n",
        "x = str(input(\"Input Value: \"))\n",
        "a = list(x for x in x.split(\",\"))\n",
        "a.sort()\n",
        "print('The output is: ')\n",
        "print(','.join(str(x) for x in a))\n"
      ],
      "metadata": {
        "colab": {
          "base_uri": "https://localhost:8080/"
        },
        "id": "GOS22dtCRIzV",
        "outputId": "aa3f08aa-8a62-4e96-c166-a18efd47d5c5"
      },
      "execution_count": null,
      "outputs": [
        {
          "output_type": "stream",
          "name": "stdout",
          "text": [
            "Input Value: dog,ser,asee\n",
            "The output is: \n",
            "asee,dog,ser\n"
          ]
        }
      ]
    },
    {
      "cell_type": "code",
      "source": [
        "#Question 9\n",
        "\n",
        "x = str(input(\"Input Value: \"))\n",
        "print('The output is: ')\n",
        "print(x.upper())"
      ],
      "metadata": {
        "colab": {
          "base_uri": "https://localhost:8080/"
        },
        "id": "0po3D_JuRqch",
        "outputId": "a8b8e266-8ed0-4211-dd06-123da2e38309"
      },
      "execution_count": null,
      "outputs": [
        {
          "output_type": "stream",
          "name": "stdout",
          "text": [
            "Input Value: the name is shailendran\n",
            "The output is: \n",
            "THE NAME IS SHAILENDRAN\n"
          ]
        }
      ]
    },
    {
      "cell_type": "code",
      "source": [
        "# Question 10\n",
        "x = str(input(\"Input Value: \"))\n",
        "a = list(x for x in x.split(\" \"))\n",
        "s=[]\n",
        "for i in a:\n",
        "    if i not in s:\n",
        "        s.append(i)\n",
        "print('The output is: ')\n",
        "s.sort()\n",
        "print(' '.join(str(x) for x in s))\n"
      ],
      "metadata": {
        "colab": {
          "base_uri": "https://localhost:8080/"
        },
        "id": "eZ0wj8ZTTIIa",
        "outputId": "84d9eec5-eb23-4254-ff1d-f81af04ced62"
      },
      "execution_count": null,
      "outputs": [
        {
          "output_type": "stream",
          "name": "stdout",
          "text": [
            "Input Value: the the name is is is\n",
            "The output is: \n",
            "is name the\n"
          ]
        }
      ]
    },
    {
      "cell_type": "code",
      "source": [
        "# Question 25\n",
        "\n",
        "class print_class:\n",
        "    input = \"coding\"\n",
        "    def __init__(self, input = None):\n",
        "        self.input = input\n",
        "\n",
        "print(\"Class Parameter:\")\n",
        "tough = print_class(\"is tough\")\n",
        "print(print_class.input, tough.input)\n",
        "\n",
        "\n",
        "print(\"Instance Parameter:\")\n",
        "easy = print_class()\n",
        "easy.input = \"is easy\"\n",
        "print(print_class.input, easy.input)"
      ],
      "metadata": {
        "colab": {
          "base_uri": "https://localhost:8080/"
        },
        "id": "POueE0LpVIxX",
        "outputId": "5082e341-97bd-4902-cf0b-e5f9e21c93a9"
      },
      "execution_count": null,
      "outputs": [
        {
          "output_type": "stream",
          "name": "stdout",
          "text": [
            "Class Parameter\n",
            "coding is tough\n",
            "Instance Parameter\n",
            "coding is easy\n"
          ]
        }
      ]
    },
    {
      "cell_type": "code",
      "source": [
        "#Question 35 and 36\n",
        "\n",
        "def dic():\n",
        "    dict={}\n",
        "    a= 20\n",
        "    for i in range(1,a+1):\n",
        "        dict[i] = i**2\n",
        "    for j in dict.keys():\n",
        "        print(j)\n",
        "dic()"
      ],
      "metadata": {
        "colab": {
          "base_uri": "https://localhost:8080/"
        },
        "id": "9egqtyzILYd0",
        "outputId": "d61b87b9-e687-4bdd-9d0f-7cd2c4926531"
      },
      "execution_count": null,
      "outputs": [
        {
          "output_type": "stream",
          "name": "stdout",
          "text": [
            "1\n",
            "2\n",
            "3\n",
            "4\n",
            "5\n",
            "6\n",
            "7\n",
            "8\n",
            "9\n",
            "10\n",
            "11\n",
            "12\n",
            "13\n",
            "14\n",
            "15\n",
            "16\n",
            "17\n",
            "18\n",
            "19\n",
            "20\n"
          ]
        }
      ]
    },
    {
      "cell_type": "code",
      "source": [
        "# Question 37\n",
        "\n",
        "def square():\n",
        "    l=[]\n",
        "    a= 20\n",
        "    for i in range(1,a+1):\n",
        "        l.append(i**2)\n",
        "    return l\n",
        "square()"
      ],
      "metadata": {
        "colab": {
          "base_uri": "https://localhost:8080/"
        },
        "id": "6FdELYkwOqdZ",
        "outputId": "7a462911-303b-4fe6-a5dd-614285dd2fb2"
      },
      "execution_count": null,
      "outputs": [
        {
          "output_type": "execute_result",
          "data": {
            "text/plain": [
              "[1, 2, 3, 4, 5, 6, 7, 8, 9, 10, 11, 12, 13, 14, 15, 16, 17, 18, 19, 20]"
            ]
          },
          "metadata": {},
          "execution_count": 11
        }
      ]
    },
    {
      "cell_type": "code",
      "source": [
        "# Question 43\n",
        "\n",
        "l=[*range(1,11)]\n",
        "tup=()\n",
        "for i in l:\n",
        "    if i%2==0:\n",
        "        tup=(*tup,i)\n",
        "print('The output is: ')\n",
        "print(tup)"
      ],
      "metadata": {
        "colab": {
          "base_uri": "https://localhost:8080/"
        },
        "id": "ip_5AzoYO4FC",
        "outputId": "7c201f64-2220-41ae-f433-f8c51bc9fc03"
      },
      "execution_count": null,
      "outputs": [
        {
          "output_type": "stream",
          "name": "stdout",
          "text": [
            "(2, 4, 6, 8, 10)\n"
          ]
        }
      ]
    },
    {
      "cell_type": "code",
      "source": [
        "# Question 51\n",
        "\n",
        "class American(object):\n",
        "    pass\n",
        "#subclass\n",
        "class NewYorker(American):\n",
        "    pass\n",
        "\n",
        "AM = American()\n",
        "NY = NewYorker()\n",
        "print(AM)\n",
        "print(NY)\n"
      ],
      "metadata": {
        "colab": {
          "base_uri": "https://localhost:8080/"
        },
        "id": "7JOsykTpSJ27",
        "outputId": "aad5e1f0-393b-4d22-912a-59308c0695aa"
      },
      "execution_count": null,
      "outputs": [
        {
          "output_type": "stream",
          "name": "stdout",
          "text": [
            "<__main__.American object at 0x7fa96a5a62d0>\n",
            "<__main__.NewYorker object at 0x7fa9624ef750>\n"
          ]
        }
      ]
    },
    {
      "cell_type": "code",
      "source": [
        "#Question 53\n",
        "\n",
        "class Rectangle(object):\n",
        "    def __init__(self, l, w):\n",
        "        self.length = l\n",
        "        self.width  = w\n",
        "\n",
        "    def area(self):\n",
        "        a = self.length*self.width\n",
        "        return a\n",
        "\n",
        "x = input('Length: ')\n",
        "y = input('width: ')\n",
        "custom_rect = Rectangle(int(x),int(y))\n",
        "print('The area of the rectangle is')\n",
        "print(custom_rect.area())\n"
      ],
      "metadata": {
        "colab": {
          "base_uri": "https://localhost:8080/"
        },
        "id": "4WqNm4zxUs6m",
        "outputId": "40290717-e1a6-4942-95de-6da7c6e9f56d"
      },
      "execution_count": null,
      "outputs": [
        {
          "output_type": "stream",
          "name": "stdout",
          "text": [
            "Length: 2\n",
            "width: 3\n",
            "The area of the rectangle is\n",
            "6\n"
          ]
        }
      ]
    },
    {
      "cell_type": "code",
      "source": [
        "# Question 54\n",
        "\n",
        "class Shape(object):\n",
        "    def __init__(self):\n",
        "        pass\n",
        "    def area(self):\n",
        "        return 0\n",
        "class Square(Shape):\n",
        "    def __init__(self, l):\n",
        "        self.length = l\n",
        "    def area(self):\n",
        "        a = self.length*self.length\n",
        "        return a\n",
        "\n",
        "custom_square= Square(int(input()))\n",
        "print('The area of the rectangle is')\n",
        "print(custom_square.area())\n"
      ],
      "metadata": {
        "colab": {
          "base_uri": "https://localhost:8080/"
        },
        "id": "AKqEP48hUF0R",
        "outputId": "bddd6a51-6445-423c-bffb-dfaeebba5d8b"
      },
      "execution_count": null,
      "outputs": [
        {
          "output_type": "stream",
          "name": "stdout",
          "text": [
            "9\n",
            "The area of the rectangle is\n",
            "81\n"
          ]
        }
      ]
    },
    {
      "cell_type": "code",
      "source": [
        "# Question 56\n",
        "\n",
        "def function():\n",
        "    return 5/0\n",
        "\n",
        "try:\n",
        "    function()\n",
        "except ZeroDivisionError:\n",
        "    print(\"division by zero!\")\n"
      ],
      "metadata": {
        "colab": {
          "base_uri": "https://localhost:8080/"
        },
        "id": "HhVzunb9V7Ar",
        "outputId": "6b28df24-09e4-4b0c-e50d-7bf07c477d7e"
      },
      "execution_count": null,
      "outputs": [
        {
          "output_type": "stream",
          "name": "stdout",
          "text": [
            "division by zero!\n"
          ]
        }
      ]
    },
    {
      "cell_type": "code",
      "source": [
        "#Question 94\n",
        "\n",
        "l = [12,24,35,24,88,120,155,88,120,155]\n",
        "print('The output is: ')\n",
        "print(set(l))"
      ],
      "metadata": {
        "colab": {
          "base_uri": "https://localhost:8080/"
        },
        "id": "Zl3ZEDj-XUCt",
        "outputId": "38e9972a-88c3-4b01-b35f-38768b417dda"
      },
      "execution_count": null,
      "outputs": [
        {
          "output_type": "stream",
          "name": "stdout",
          "text": [
            "{35, 12, 155, 24, 88, 120}\n"
          ]
        }
      ]
    }
  ]
}